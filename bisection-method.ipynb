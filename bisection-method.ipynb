{
 "cells": [
  {
   "cell_type": "code",
   "execution_count": 3,
   "metadata": {},
   "outputs": [],
   "source": [
    "using MATLAB\n",
    "using BenchmarkTools"
   ]
  },
  {
   "cell_type": "markdown",
   "metadata": {},
   "source": [
    "# Bisection Method\n",
    "\n",
    "The bisection method is an algorithm that can help us solve nonlinear equations. The basic idea is that we are given an initial guess $x_0 \\in [a,b]$. Then we generate a sequence of iterates $x_1, x_2, x_3, \\cdots$ that hopefully converges to the solution which we will denote with $\\mu$. We stop iterating at some finite $n$. Use $x_n \\approx \\mu$ as your final answer.\n",
    "\n",
    "Specifically, the bisection method is a consequence of the *intermediate value theorem*. If we have a function $f$ that is continuous on $[a,b]$ and $f(a) \\cdot f(b) < 0$ (meaning $f(a)$ and $f(b)$ have opposite signs), then there exists a point $\\mu \\in (a,b)$ such that $f(\\mu) = 0$. \n",
    "\n",
    "The idea is as follows (assume that there is exactly one root):\n",
    "\n",
    "1. Let $x_0 = \\frac{b+a}{2}$. Check $f(x_0)$ and update $b_1 = x_0, a_1 = x_0$. \n",
    "2. Let $x_1 = \\frac{b_1+a_1}{2}$. Check $f(x_0)$ and update $b_2 = b_1, a_2 = x_1$.\n",
    "3. Let $x_0 = \\frac{b_2+a_2}{2}$. Check $f(x_0)$ and update $b_3 = b_2, a_3 = x_2$.\n",
    "\n",
    "The code for the bisection method in MATLAB uses the following code:\n",
    "\n",
    "```matlab\n",
    "function [xn, n] = bisectionMethod(f,a,b,tol)\n",
    "\n",
    "    residual = Inf; % Initializing residual\n",
    "    n = 0; % # of iterations\n",
    "    \n",
    "    while (residual > tol)\n",
    "    \n",
    "        xn = (a+b)/2; % nth iterate is the midpoint of the interval\n",
    "        residual = abs(f(xn));\n",
    "        \n",
    "        if f(a) * f(xn) < 0\n",
    "            b = xn;\n",
    "        else\n",
    "            a = xn;\n",
    "        end\n",
    "        \n",
    "        n = n + 1; % Increment loop counter\n",
    "    end\n",
    "end\n",
    "```\n",
    "\n",
    "The Julia implementation of the same code can be written as follows:"
   ]
  },
  {
   "cell_type": "code",
   "execution_count": null,
   "metadata": {},
   "outputs": [],
   "source": [
    "function bisectionMethodJulia(f, a, b, tol)\n",
    "    residual = Inf;\n",
    "    n = 0;\n",
    "\n",
    "    while (residual > tol)\n",
    "        x_n = (a + b) / 2\n",
    "        residual = abs()\n",
    "    end\n",
    "end"
   ]
  }
 ],
 "metadata": {
  "kernelspec": {
   "display_name": "Julia 1.7.3",
   "language": "julia",
   "name": "julia-1.7"
  },
  "language_info": {
   "file_extension": ".jl",
   "mimetype": "application/julia",
   "name": "julia",
   "version": "1.7.3"
  },
  "orig_nbformat": 4
 },
 "nbformat": 4,
 "nbformat_minor": 2
}
