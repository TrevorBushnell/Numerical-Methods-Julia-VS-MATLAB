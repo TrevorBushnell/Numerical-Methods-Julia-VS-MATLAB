{
 "cells": [
  {
   "cell_type": "markdown",
   "metadata": {},
   "source": [
    "# About Julia\n",
    "\n",
    "Before hopping into some numerical methods and running benchmarks, I thought it would be smart to show off some functionality of Julia so that people can see why (in my humble opinion) Julia is a far superior programming language to MATLAB. \n",
    "\n",
    "First off, Julia as INCREDIBLY similar syntax to MATLAB. If statements, for loops, functions, creating a matrix, etc. are all the same in MATLAB as they are in Julia. For example, here is an example of a `for` loop in Julia:"
   ]
  },
  {
   "cell_type": "code",
   "execution_count": 3,
   "metadata": {},
   "outputs": [
    {
     "name": "stdout",
     "output_type": "stream",
     "text": [
      "1\n",
      "2\n",
      "3\n",
      "4\n",
      "5\n",
      "6\n",
      "7\n",
      "8\n",
      "9\n",
      "10\n"
     ]
    }
   ],
   "source": [
    "for i in 1:10\n",
    "    println(i)\n",
    "end"
   ]
  },
  {
   "cell_type": "code",
   "execution_count": 4,
   "metadata": {},
   "outputs": [
    {
     "data": {
      "text/plain": [
       "2×2 Matrix{Float64}:\n",
       " 0.0  0.0\n",
       " 0.0  0.0"
      ]
     },
     "metadata": {},
     "output_type": "display_data"
    }
   ],
   "source": [
    "A = zeros(2, 2)"
   ]
  },
  {
   "cell_type": "code",
   "execution_count": 5,
   "metadata": {},
   "outputs": [
    {
     "data": {
      "text/plain": [
       "3×4 Matrix{Float64}:\n",
       " 1.0  1.0  1.0  1.0\n",
       " 1.0  1.0  1.0  1.0\n",
       " 1.0  1.0  1.0  1.0"
      ]
     },
     "metadata": {},
     "output_type": "display_data"
    }
   ],
   "source": [
    "B = ones(3, 4)"
   ]
  },
  {
   "cell_type": "code",
   "execution_count": 6,
   "metadata": {},
   "outputs": [
    {
     "data": {
      "text/plain": [
       "2-element Vector{Float64}:\n",
       " 0.6248419113729959\n",
       " 0.1012259094580078"
      ]
     },
     "metadata": {},
     "output_type": "display_data"
    }
   ],
   "source": [
    "v = rand(2)"
   ]
  },
  {
   "cell_type": "markdown",
   "metadata": {},
   "source": [
    "Julia also supports **broadcasting** (or element-wise operations) in the same way that MATLAB does. So we can multiply every element in `v` by 5 super easily:"
   ]
  },
  {
   "cell_type": "code",
   "execution_count": 11,
   "metadata": {},
   "outputs": [
    {
     "data": {
      "text/plain": [
       "2-element Vector{Float64}:\n",
       " 3.1242095568649795\n",
       " 0.506129547290039"
      ]
     },
     "metadata": {},
     "output_type": "display_data"
    }
   ],
   "source": [
    "v .* 5"
   ]
  },
  {
   "cell_type": "markdown",
   "metadata": {},
   "source": [
    "Julia also uses 1-based indexing (unlike C, Java, Python, etc.) which is additionally similar to MATLAB. However, there are some notable differences that need to be made between MATLAB and Julia. You can read up on all these differences [here](https://docs.julialang.org/en/v1/manual/noteworthy-differences/), but I am going to list the bigger ones here.\n",
    "\n",
    "For starters, *indexing is done with square brackets and not parentheses*. So to access an element in `A`, we would need to write:"
   ]
  },
  {
   "cell_type": "code",
   "execution_count": 13,
   "metadata": {},
   "outputs": [
    {
     "data": {
      "text/plain": [
       "0.0"
      ]
     },
     "metadata": {},
     "output_type": "display_data"
    }
   ],
   "source": [
    "A[1, 2]"
   ]
  },
  {
   "cell_type": "markdown",
   "metadata": {},
   "source": [
    "Another really important difference is that *arrays are not copied when assigned to another variable.* For example, if we wanted to create a new matrix `B` in MATLAB, `B=A` will create that new matrix with the same values as `A`, but changing values in `B` will not change values in `A`. This is NOT the case in Julia, as illustrated below:"
   ]
  },
  {
   "cell_type": "code",
   "execution_count": 15,
   "metadata": {},
   "outputs": [
    {
     "data": {
      "text/plain": [
       "2×2 Matrix{Float64}:\n",
       " 1.0  0.0\n",
       " 0.0  0.0"
      ]
     },
     "metadata": {},
     "output_type": "display_data"
    }
   ],
   "source": [
    "B = A\n",
    "B[1, 1] = 1\n",
    "A"
   ]
  },
  {
   "cell_type": "markdown",
   "metadata": {},
   "source": [
    "See? We printed the values of `A` and the first element was still changed. If you want to truly make copies of variables, you will have to use the `copy()` function:"
   ]
  },
  {
   "cell_type": "code",
   "execution_count": 17,
   "metadata": {},
   "outputs": [
    {
     "data": {
      "text/plain": [
       "2×2 Matrix{Float64}:\n",
       " 0.0  0.0\n",
       " 0.0  0.0"
      ]
     },
     "metadata": {},
     "output_type": "display_data"
    }
   ],
   "source": [
    "A = zeros(2, 2)\n",
    "B = copy(A)\n",
    "B[1, 1] = 1\n",
    "A"
   ]
  },
  {
   "cell_type": "markdown",
   "metadata": {},
   "source": [
    "The imaginary unit is called `im` in Julia, rather than `i` or `j`. I am in favor of this change because it lets us use `i` and `j` as incrementing variables in our `for` loops now if we want.\n",
    "\n",
    "*Julia does not dynamically resize arrays*. As an example:"
   ]
  },
  {
   "cell_type": "code",
   "execution_count": 24,
   "metadata": {},
   "outputs": [
    {
     "ename": "BoundsError",
     "evalue": "BoundsError: attempt to access 3-element Vector{Float64} at index [4]",
     "output_type": "error",
     "traceback": [
      "BoundsError: attempt to access 3-element Vector{Float64} at index [4]\n",
      "\n",
      "Stacktrace:\n",
      " [1] setindex!(A::Vector{Float64}, x::Int64, i1::Int64)\n",
      "   @ Base ./array.jl:903\n",
      " [2] top-level scope\n",
      "   @ ~/GitHub/Numerical-Methods-Julia-VS-MATLAB/about-julia.ipynb:2"
     ]
    }
   ],
   "source": [
    "v = rand(3)\n",
    "v[4] = 2"
   ]
  },
  {
   "cell_type": "markdown",
   "metadata": {},
   "source": [
    "If you want to add values to an array, you have to use actual function calls like `push!` and `append!`. This is actually much more efficient than the MATLAB equivalent `v(end+1) = 2`."
   ]
  },
  {
   "cell_type": "code",
   "execution_count": 25,
   "metadata": {},
   "outputs": [
    {
     "data": {
      "text/plain": [
       "4-element Vector{Float64}:\n",
       " 0.4711367009253731\n",
       " 0.1420263964424301\n",
       " 0.9826961911831995\n",
       " 2.0"
      ]
     },
     "metadata": {},
     "output_type": "display_data"
    }
   ],
   "source": [
    "push!(v, 2)"
   ]
  },
  {
   "cell_type": "markdown",
   "metadata": {},
   "source": [
    "Finally, *Julia functions return values from their last expression or whatever is listed after the `return` keyword.* This means that you do NOT have to list what specifically will be returned in your function declarations. As someone who writes software in other programming languages, this was my biggest frustration with MATLAB. Additionally, returning multiple values in Julia will result in all the values coming back bundled inside of a tuple."
   ]
  },
  {
   "cell_type": "code",
   "execution_count": 27,
   "metadata": {},
   "outputs": [
    {
     "data": {
      "text/plain": [
       "(7, -3, 10)"
      ]
     },
     "metadata": {},
     "output_type": "display_data"
    }
   ],
   "source": [
    "function add_subtract_multiply(a, b)\n",
    "    c = a + b\n",
    "    d = a - b\n",
    "    e = a * b\n",
    "\n",
    "    return c, d, e\n",
    "end\n",
    "\n",
    "add_subtract_multiply(2, 5)"
   ]
  },
  {
   "cell_type": "markdown",
   "metadata": {},
   "source": [
    "Finally, the major feature of Julia that I am absolutely in love with - and the feature that I believe makes learning Numerical Methods much easier than in MATLAB:\n",
    "\n",
    "**Julia lets you insert LaTeX symbols into your code.**\n",
    "\n",
    "This is truly beautiful. You can now read and write code truly mathematically. It's a phenomenally powerful feature that I absolutely adore. I find that my code in turn becomes more readable because I can assign the actual symbol a value rather than coming up with some obscure variable name.\n",
    "\n",
    "To add a LaTeX symbol into your code, type `\\` and the name of the character that you want, then hit tab. The symbol will be automatically inserted into your code.\n",
    "\n",
    "For example, here is me assigning a value to a LaTeX variable:"
   ]
  },
  {
   "cell_type": "code",
   "execution_count": 28,
   "metadata": {},
   "outputs": [
    {
     "data": {
      "text/plain": [
       "4"
      ]
     },
     "metadata": {},
     "output_type": "display_data"
    }
   ],
   "source": [
    "λ = 4\n",
    "λ"
   ]
  },
  {
   "cell_type": "markdown",
   "metadata": {},
   "source": [
    "Not only can I use LaTeX for variable names, but Julia also understands LaTeX symbols from within code. For example:"
   ]
  },
  {
   "cell_type": "code",
   "execution_count": 31,
   "metadata": {},
   "outputs": [
    {
     "name": "stdout",
     "output_type": "stream",
     "text": [
      "1\n",
      "2\n",
      "3\n",
      "4\n",
      "5\n",
      "6\n",
      "7\n",
      "8\n",
      "9\n",
      "10\n"
     ]
    }
   ],
   "source": [
    "for i ∈ 1:10\n",
    "    println(i)\n",
    "end"
   ]
  },
  {
   "cell_type": "markdown",
   "metadata": {},
   "source": [
    "I seriously cannot stress how much I adore this feature of Julia. For that reason alone, I think every mathematician should be coding in Julia. Granted, there are other incredible performance features that we will see in the coming chapters, but this is definitely a nice start! \n",
    "\n",
    "Now that we know some key features of Julia (and some key differences that it has from MATLAB), we can start talking about some numerical methods!"
   ]
  }
 ],
 "metadata": {
  "kernelspec": {
   "display_name": "Julia 1.7.3",
   "language": "julia",
   "name": "julia-1.7"
  },
  "language_info": {
   "file_extension": ".jl",
   "mimetype": "application/julia",
   "name": "julia",
   "version": "1.7.3"
  },
  "orig_nbformat": 4
 },
 "nbformat": 4,
 "nbformat_minor": 2
}
